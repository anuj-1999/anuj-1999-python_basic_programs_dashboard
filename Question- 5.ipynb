{
 "cells": [
  {
   "cell_type": "code",
   "execution_count": 1,
   "id": "a2ebb33a-878c-4403-a894-0f72a067cfab",
   "metadata": {},
   "outputs": [
    {
     "name": "stdout",
     "output_type": "stream",
     "text": [
      "The number 120 is divisible by 2 3 times.\n"
     ]
    }
   ],
   "source": [
    "def calculate_divisibility(A, B):\n",
    "    count = 0\n",
    "\n",
    "    while A % B == 0:\n",
    "        A = A / B\n",
    "        count += 1\n",
    "\n",
    "    return count\n",
    "\n",
    "\n",
    "number_A = 120\n",
    "number_B = 2\n",
    "result = calculate_divisibility(number_A, number_B)\n",
    "print(f\"The number {number_A} is divisible by {number_B} {result} times.\")"
   ]
  },
  {
   "cell_type": "code",
   "execution_count": null,
   "id": "bc945fb7-3c72-42a0-9262-75b3fad9c2c1",
   "metadata": {},
   "outputs": [],
   "source": []
  }
 ],
 "metadata": {
  "kernelspec": {
   "display_name": "Python 3 (ipykernel)",
   "language": "python",
   "name": "python3"
  },
  "language_info": {
   "codemirror_mode": {
    "name": "ipython",
    "version": 3
   },
   "file_extension": ".py",
   "mimetype": "text/x-python",
   "name": "python",
   "nbconvert_exporter": "python",
   "pygments_lexer": "ipython3",
   "version": "3.10.8"
  }
 },
 "nbformat": 4,
 "nbformat_minor": 5
}
