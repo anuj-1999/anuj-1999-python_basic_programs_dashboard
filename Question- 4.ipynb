{
 "cells": [
  {
   "cell_type": "code",
   "execution_count": 1,
   "id": "2636924c-bd9b-4d6c-8898-9bf4629f18d2",
   "metadata": {},
   "outputs": [
    {
     "name": "stdout",
     "output_type": "stream",
     "text": [
      "10 <class 'int'>\n",
      "Hello <class 'str'>\n",
      "3.14 <class 'float'>\n",
      "True <class 'bool'>\n",
      "[1, 2, 3] <class 'list'>\n",
      "{'name': 'John', 'age': 25} <class 'dict'>\n",
      "(1, 2) <class 'tuple'>\n",
      "None <class 'NoneType'>\n",
      "False <class 'bool'>\n",
      "World <class 'str'>\n"
     ]
    }
   ],
   "source": [
    "\n",
    "my_list = [10, 'Hello', 3.14, True, [1, 2, 3], {'name': 'John', 'age': 25}, (1, 2), None, False, 'World']\n",
    "\n",
    "for element in my_list:\n",
    "    print(element, type(element))\n"
   ]
  },
  {
   "cell_type": "code",
   "execution_count": null,
   "id": "598635ec-8bae-46cb-bd0b-bd4bb16a1882",
   "metadata": {},
   "outputs": [],
   "source": []
  }
 ],
 "metadata": {
  "kernelspec": {
   "display_name": "Python 3 (ipykernel)",
   "language": "python",
   "name": "python3"
  },
  "language_info": {
   "codemirror_mode": {
    "name": "ipython",
    "version": 3
   },
   "file_extension": ".py",
   "mimetype": "text/x-python",
   "name": "python",
   "nbconvert_exporter": "python",
   "pygments_lexer": "ipython3",
   "version": "3.10.8"
  }
 },
 "nbformat": 4,
 "nbformat_minor": 5
}
