{
 "cells": [
  {
   "cell_type": "code",
   "execution_count": 5,
   "id": "8c77f604-5f53-463e-89b6-e499c829ab0c",
   "metadata": {},
   "outputs": [
    {
     "name": "stdout",
     "output_type": "stream",
     "text": [
      "15 is divisible by 3\n",
      "4 is not divisible by 3\n",
      "6 is divisible by 3\n",
      "9 is divisible by 3\n",
      "10 is not divisible by 3\n",
      "18 is divisible by 3\n",
      "21 is divisible by 3\n",
      "7 is not divisible by 3\n",
      "12 is divisible by 3\n",
      "30 is divisible by 3\n",
      "33 is divisible by 3\n",
      "2 is not divisible by 3\n",
      "27 is divisible by 3\n",
      "14 is not divisible by 3\n",
      "36 is divisible by 3\n",
      "39 is divisible by 3\n",
      "8 is not divisible by 3\n",
      "25 is not divisible by 3\n",
      "3 is divisible by 3\n",
      "17 is not divisible by 3\n",
      "22 is not divisible by 3\n",
      "11 is not divisible by 3\n",
      "28 is not divisible by 3\n",
      "31 is not divisible by 3\n",
      "5 is not divisible by 3\n"
     ]
    }
   ],
   "source": [
    "\n",
    "integer_list = [15, 4, 6, 9, 10, 18, 21, 7, 12, 30, 33, 2, 27, 14, 36, 39, 8, 25, 3, 17, 22, 11, 28, 31, 5]\n",
    "\n",
    "\n",
    "for num in integer_list:\n",
    "    if num % 3 == 0:\n",
    "        print(f\"{num} is divisible by 3\")\n",
    "    else:\n",
    "        print(f\"{num} is not divisible by 3\")\n"
   ]
  },
  {
   "cell_type": "code",
   "execution_count": null,
   "id": "f0a2d8ac-96b0-4072-bec6-abe0187d2566",
   "metadata": {},
   "outputs": [],
   "source": []
  }
 ],
 "metadata": {
  "kernelspec": {
   "display_name": "Python 3 (ipykernel)",
   "language": "python",
   "name": "python3"
  },
  "language_info": {
   "codemirror_mode": {
    "name": "ipython",
    "version": 3
   },
   "file_extension": ".py",
   "mimetype": "text/x-python",
   "name": "python",
   "nbconvert_exporter": "python",
   "pygments_lexer": "ipython3",
   "version": "3.10.8"
  }
 },
 "nbformat": 4,
 "nbformat_minor": 5
}
