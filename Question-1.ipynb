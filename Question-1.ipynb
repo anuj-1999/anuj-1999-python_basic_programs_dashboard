{
 "cells": [
  {
   "cell_type": "code",
   "execution_count": 4,
   "id": "74a033a0-b30e-4837-9ea3-55f3d2d64de0",
   "metadata": {},
   "outputs": [],
   "source": [
    "my_string = \"Hello, Anuj!\""
   ]
  },
  {
   "cell_type": "code",
   "execution_count": 5,
   "id": "4c340341-b711-4329-90bf-2f9fb324d337",
   "metadata": {},
   "outputs": [
    {
     "data": {
      "text/plain": [
       "'Hello, Anuj!'"
      ]
     },
     "execution_count": 5,
     "metadata": {},
     "output_type": "execute_result"
    }
   ],
   "source": [
    "my_string"
   ]
  },
  {
   "cell_type": "code",
   "execution_count": 6,
   "id": "79fadc16-b2ca-44c8-ae48-4c7ffc685428",
   "metadata": {},
   "outputs": [],
   "source": [
    "my_list = [1,2,3,4,5,6]"
   ]
  },
  {
   "cell_type": "code",
   "execution_count": 7,
   "id": "91b01400-dfc3-4c69-8bd6-5da271aeef32",
   "metadata": {},
   "outputs": [
    {
     "data": {
      "text/plain": [
       "[1, 2, 3, 4, 5, 6]"
      ]
     },
     "execution_count": 7,
     "metadata": {},
     "output_type": "execute_result"
    }
   ],
   "source": [
    "my_list"
   ]
  },
  {
   "cell_type": "code",
   "execution_count": 8,
   "id": "15e480d7-fb36-409b-9b8e-7ff8fd4e030c",
   "metadata": {},
   "outputs": [],
   "source": [
    "my_float = 3.14"
   ]
  },
  {
   "cell_type": "code",
   "execution_count": 9,
   "id": "7b72b630-1a7c-4db1-bedb-d46c78505a04",
   "metadata": {},
   "outputs": [
    {
     "data": {
      "text/plain": [
       "3.14"
      ]
     },
     "execution_count": 9,
     "metadata": {},
     "output_type": "execute_result"
    }
   ],
   "source": [
    "my_float"
   ]
  },
  {
   "cell_type": "code",
   "execution_count": 10,
   "id": "38923dcb-1257-49c3-a264-f53130cb56db",
   "metadata": {},
   "outputs": [],
   "source": [
    "my_tuple = (6, 7, 8, 9, 10)"
   ]
  },
  {
   "cell_type": "code",
   "execution_count": 11,
   "id": "5dc0c120-d02a-4617-86b8-0ea933b952d4",
   "metadata": {},
   "outputs": [
    {
     "data": {
      "text/plain": [
       "(6, 7, 8, 9, 10)"
      ]
     },
     "execution_count": 11,
     "metadata": {},
     "output_type": "execute_result"
    }
   ],
   "source": [
    "my_tuple"
   ]
  },
  {
   "cell_type": "code",
   "execution_count": null,
   "id": "92a9c787-18b6-442d-b7d2-7a59e8ac3bf0",
   "metadata": {},
   "outputs": [],
   "source": []
  }
 ],
 "metadata": {
  "kernelspec": {
   "display_name": "Python 3 (ipykernel)",
   "language": "python",
   "name": "python3"
  },
  "language_info": {
   "codemirror_mode": {
    "name": "ipython",
    "version": 3
   },
   "file_extension": ".py",
   "mimetype": "text/x-python",
   "name": "python",
   "nbconvert_exporter": "python",
   "pygments_lexer": "ipython3",
   "version": "3.10.8"
  }
 },
 "nbformat": 4,
 "nbformat_minor": 5
}
